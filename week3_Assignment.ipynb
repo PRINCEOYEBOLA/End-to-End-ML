{
 "cells": [
  {
   "cell_type": "code",
   "execution_count": 15,
   "id": "8b3cb235-b70d-4898-978b-0f22b0c65e20",
   "metadata": {},
   "outputs": [
    {
     "name": "stdout",
     "output_type": "stream",
     "text": [
      "Reinitialized existing Git repository in C:/Users/USER/Desktop/week3/.git/\n"
     ]
    }
   ],
   "source": [
    "!git init"
   ]
  },
  {
   "cell_type": "code",
   "execution_count": 24,
   "id": "d3400bfd-854c-4df0-b327-562316e20fec",
   "metadata": {},
   "outputs": [
    {
     "name": "stderr",
     "output_type": "stream",
     "text": [
      "warning: LF will be replaced by CRLF in week3_Assignment.ipynb.\n",
      "The file will have its original line endings in your working directory\n"
     ]
    }
   ],
   "source": [
    "!git add week3_Assignment.ipynb"
   ]
  },
  {
   "cell_type": "code",
   "execution_count": 25,
   "id": "33dd1a58-ae80-4bba-9d69-e0f851095cc6",
   "metadata": {},
   "outputs": [
    {
     "name": "stdout",
     "output_type": "stream",
     "text": [
      "Reinitialized existing Git repository in C:/Users/USER/Desktop/week3/.git/\n",
      "[main 4cb85f1] week3_Assignment.ipynb\n",
      " 1 file changed, 47 insertions(+), 22 deletions(-)\n"
     ]
    },
    {
     "name": "stderr",
     "output_type": "stream",
     "text": [
      "error: remote origin already exists.\n",
      "git@github.com: Permission denied (publickey).\n",
      "fatal: Could not read from remote repository.\n",
      "\n",
      "Please make sure you have the correct access rights\n",
      "and the repository exists.\n"
     ]
    }
   ],
   "source": [
    "!git init\n",
    "\n",
    "!git commit -m \"week3_Assignment.ipynb\"\n",
    "!git branch -M main\n",
    "!git remote add origin git@github.com:PRINCEOYEBOLA/week3_Assignment.git\n",
    "!git push -u origin main"
   ]
  },
  {
   "cell_type": "code",
   "execution_count": 21,
   "id": "850e8550-3d62-4292-8681-1c94aab4f0e8",
   "metadata": {},
   "outputs": [
    {
     "name": "stderr",
     "output_type": "stream",
     "text": [
      "error: remote origin already exists.\n"
     ]
    }
   ],
   "source": [
    "!git remote add origin git@github.com:PRINCEOYEBOLA/week3_Assignment.git"
   ]
  },
  {
   "cell_type": "code",
   "execution_count": 16,
   "id": "a9bfe7cf-789a-4212-a44e-afa174ead9ae",
   "metadata": {
    "collapsed": true,
    "jupyter": {
     "outputs_hidden": true
    },
    "tags": []
   },
   "outputs": [
    {
     "name": "stderr",
     "output_type": "stream",
     "text": [
      "error: remote origin already exists.\n"
     ]
    }
   ],
   "source": [
    "!git remote add origin git@github.com:PRINCEOYEBOLA/wee3_Assignment.git"
   ]
  },
  {
   "cell_type": "code",
   "execution_count": 17,
   "id": "7e5a21a7-459b-4b91-b0b1-15acffe4a49b",
   "metadata": {},
   "outputs": [],
   "source": [
    "!git branch -M main"
   ]
  },
  {
   "cell_type": "code",
   "execution_count": 18,
   "id": "102aad47-39af-41cd-91e1-351d6c616f0c",
   "metadata": {
    "collapsed": true,
    "jupyter": {
     "outputs_hidden": true
    },
    "tags": []
   },
   "outputs": [
    {
     "name": "stderr",
     "output_type": "stream",
     "text": [
      "warning: LF will be replaced by CRLF in week3_Assignment.ipynb.\n",
      "The file will have its original line endings in your working directory\n"
     ]
    }
   ],
   "source": [
    "!git add week3_Assignment.ipynb"
   ]
  },
  {
   "cell_type": "code",
   "execution_count": 19,
   "id": "35b4a73b-f649-4f94-9cf7-e265b0a6d0e0",
   "metadata": {
    "collapsed": true,
    "jupyter": {
     "outputs_hidden": true
    },
    "tags": []
   },
   "outputs": [
    {
     "name": "stdout",
     "output_type": "stream",
     "text": [
      "[main 41b26e8] my week 3 Assignment is here\n",
      " 1 file changed, 17 insertions(+), 10 deletions(-)\n"
     ]
    }
   ],
   "source": [
    "!git commit -m \"my week 3 Assignment is here\""
   ]
  },
  {
   "cell_type": "code",
   "execution_count": 1,
   "id": "193b922f-c709-4de4-96b5-fed96c683535",
   "metadata": {
    "tags": []
   },
   "outputs": [
    {
     "data": {
      "text/plain": [
       "\"\\nSource:\\n\\nCreators:\\n\\nDr. William H. Wolberg, General Surgery Dept.\\nUniversity of Wisconsin, Clinical Sciences Center\\nMadison, WI 53792\\nwolberg '@' eagle.surgery.wisc.edu\\n\\nW. Nick Street, Computer Sciences Dept.\\nUniversity of Wisconsin, 1210 West Dayton St., Madison, WI 53706\\nstreet '@' cs.wisc.edu 608-262-6619\\n\\nOlvi L. Mangasarian, Computer Sciences Dept.\\nUniversity of Wisconsin, 1210 West Dayton St., Madison, WI 53706\\nolvi '@' cs.wisc.edu\\n\\nDonor: Nick Street\\n\\nSource: UCI - Machine Learning Repository\\n\""
      ]
     },
     "execution_count": 1,
     "metadata": {},
     "output_type": "execute_result"
    }
   ],
   "source": [
    "# import librabries\n",
    "import numpy as np\n",
    "import pandas as pd\n",
    "import seaborn as sns\n",
    "import matplotlib.pyplot as plt\n",
    "\n",
    "\n",
    "# Source: https://catalog.data.gov/dataset/infectious-disease-cases-by-county-year-and-sex-2001-2014\n",
    "\n",
    "\"\"\"\n",
    "Source:\n",
    "\n",
    "Creators:\n",
    "\n",
    "Dr. William H. Wolberg, General Surgery Dept.\n",
    "University of Wisconsin, Clinical Sciences Center\n",
    "Madison, WI 53792\n",
    "wolberg '@' eagle.surgery.wisc.edu\n",
    "\n",
    "W. Nick Street, Computer Sciences Dept.\n",
    "University of Wisconsin, 1210 West Dayton St., Madison, WI 53706\n",
    "street '@' cs.wisc.edu 608-262-6619\n",
    "\n",
    "Olvi L. Mangasarian, Computer Sciences Dept.\n",
    "University of Wisconsin, 1210 West Dayton St., Madison, WI 53706\n",
    "olvi '@' cs.wisc.edu\n",
    "\n",
    "Donor: Nick Street\n",
    "\n",
    "Source: UCI - Machine Learning Repository\n",
    "\"\"\""
   ]
  },
  {
   "cell_type": "code",
   "execution_count": null,
   "id": "a23cfa93-6cf8-4e89-9b00-bb9b9e4bc115",
   "metadata": {},
   "outputs": [],
   "source": []
  },
  {
   "cell_type": "code",
   "execution_count": 2,
   "id": "74204e9c-44e6-4a3a-bc43-6afb707265b7",
   "metadata": {},
   "outputs": [],
   "source": [
    "# import the dataset from the previous exercise\n",
    "df = pd.read_csv(\"~/Desktop/End-to-End-ML-Q1-Cohort/End-to-End-ML-Q1-Cohort/notebooks/newdf_grp.csv\")"
   ]
  },
  {
   "cell_type": "code",
   "execution_count": 3,
   "id": "c1ad9e5a-fbc0-4ad5-9eb1-a9b40f50fd78",
   "metadata": {},
   "outputs": [
    {
     "data": {
      "text/html": [
       "<div>\n",
       "<style scoped>\n",
       "    .dataframe tbody tr th:only-of-type {\n",
       "        vertical-align: middle;\n",
       "    }\n",
       "\n",
       "    .dataframe tbody tr th {\n",
       "        vertical-align: top;\n",
       "    }\n",
       "\n",
       "    .dataframe thead th {\n",
       "        text-align: right;\n",
       "    }\n",
       "</style>\n",
       "<table border=\"1\" class=\"dataframe\">\n",
       "  <thead>\n",
       "    <tr style=\"text-align: right;\">\n",
       "      <th></th>\n",
       "      <th>age</th>\n",
       "      <th>job</th>\n",
       "      <th>marital</th>\n",
       "      <th>education</th>\n",
       "      <th>default</th>\n",
       "      <th>balance</th>\n",
       "      <th>housing</th>\n",
       "      <th>loan</th>\n",
       "      <th>contact</th>\n",
       "      <th>day</th>\n",
       "      <th>month</th>\n",
       "      <th>duration</th>\n",
       "      <th>campaign</th>\n",
       "      <th>pdays</th>\n",
       "      <th>previous</th>\n",
       "      <th>poutcome</th>\n",
       "      <th>y</th>\n",
       "    </tr>\n",
       "  </thead>\n",
       "  <tbody>\n",
       "    <tr>\n",
       "      <th>422</th>\n",
       "      <td>32</td>\n",
       "      <td>blue-collar</td>\n",
       "      <td>married</td>\n",
       "      <td>secondary</td>\n",
       "      <td>no</td>\n",
       "      <td>320</td>\n",
       "      <td>yes</td>\n",
       "      <td>no</td>\n",
       "      <td>unknown</td>\n",
       "      <td>6</td>\n",
       "      <td>may</td>\n",
       "      <td>198</td>\n",
       "      <td>2</td>\n",
       "      <td>-1</td>\n",
       "      <td>0</td>\n",
       "      <td>unknown</td>\n",
       "      <td>no</td>\n",
       "    </tr>\n",
       "    <tr>\n",
       "      <th>36480</th>\n",
       "      <td>49</td>\n",
       "      <td>technician</td>\n",
       "      <td>divorced</td>\n",
       "      <td>tertiary</td>\n",
       "      <td>no</td>\n",
       "      <td>596</td>\n",
       "      <td>yes</td>\n",
       "      <td>no</td>\n",
       "      <td>telephone</td>\n",
       "      <td>15</td>\n",
       "      <td>sep</td>\n",
       "      <td>722</td>\n",
       "      <td>1</td>\n",
       "      <td>-1</td>\n",
       "      <td>0</td>\n",
       "      <td>unknown</td>\n",
       "      <td>yes</td>\n",
       "    </tr>\n",
       "    <tr>\n",
       "      <th>38632</th>\n",
       "      <td>30</td>\n",
       "      <td>technician</td>\n",
       "      <td>single</td>\n",
       "      <td>tertiary</td>\n",
       "      <td>no</td>\n",
       "      <td>2325</td>\n",
       "      <td>no</td>\n",
       "      <td>no</td>\n",
       "      <td>cellular</td>\n",
       "      <td>10</td>\n",
       "      <td>aug</td>\n",
       "      <td>263</td>\n",
       "      <td>1</td>\n",
       "      <td>127</td>\n",
       "      <td>7</td>\n",
       "      <td>failure</td>\n",
       "      <td>yes</td>\n",
       "    </tr>\n",
       "    <tr>\n",
       "      <th>5291</th>\n",
       "      <td>31</td>\n",
       "      <td>management</td>\n",
       "      <td>married</td>\n",
       "      <td>tertiary</td>\n",
       "      <td>no</td>\n",
       "      <td>2229</td>\n",
       "      <td>yes</td>\n",
       "      <td>no</td>\n",
       "      <td>unknown</td>\n",
       "      <td>26</td>\n",
       "      <td>may</td>\n",
       "      <td>90</td>\n",
       "      <td>4</td>\n",
       "      <td>-1</td>\n",
       "      <td>0</td>\n",
       "      <td>unknown</td>\n",
       "      <td>no</td>\n",
       "    </tr>\n",
       "    <tr>\n",
       "      <th>32336</th>\n",
       "      <td>33</td>\n",
       "      <td>management</td>\n",
       "      <td>married</td>\n",
       "      <td>tertiary</td>\n",
       "      <td>no</td>\n",
       "      <td>335</td>\n",
       "      <td>no</td>\n",
       "      <td>no</td>\n",
       "      <td>cellular</td>\n",
       "      <td>12</td>\n",
       "      <td>may</td>\n",
       "      <td>527</td>\n",
       "      <td>2</td>\n",
       "      <td>-1</td>\n",
       "      <td>0</td>\n",
       "      <td>unknown</td>\n",
       "      <td>no</td>\n",
       "    </tr>\n",
       "  </tbody>\n",
       "</table>\n",
       "</div>"
      ],
      "text/plain": [
       "       age          job   marital  education default  balance housing loan  \\\n",
       "422     32  blue-collar   married  secondary      no      320     yes   no   \n",
       "36480   49   technician  divorced   tertiary      no      596     yes   no   \n",
       "38632   30   technician    single   tertiary      no     2325      no   no   \n",
       "5291    31   management   married   tertiary      no     2229     yes   no   \n",
       "32336   33   management   married   tertiary      no      335      no   no   \n",
       "\n",
       "         contact  day month  duration  campaign  pdays  previous poutcome    y  \n",
       "422      unknown    6   may       198         2     -1         0  unknown   no  \n",
       "36480  telephone   15   sep       722         1     -1         0  unknown  yes  \n",
       "38632   cellular   10   aug       263         1    127         7  failure  yes  \n",
       "5291     unknown   26   may        90         4     -1         0  unknown   no  \n",
       "32336   cellular   12   may       527         2     -1         0  unknown   no  "
      ]
     },
     "execution_count": 3,
     "metadata": {},
     "output_type": "execute_result"
    }
   ],
   "source": [
    "# randomly display 5 samples \n",
    "df.sample(5)"
   ]
  },
  {
   "cell_type": "code",
   "execution_count": 4,
   "id": "c04fc70f-6c8d-4dec-ab2f-a865e84323a6",
   "metadata": {},
   "outputs": [
    {
     "data": {
      "text/plain": [
       "age          0\n",
       "job          0\n",
       "marital      0\n",
       "education    0\n",
       "default      0\n",
       "balance      0\n",
       "housing      0\n",
       "loan         0\n",
       "contact      0\n",
       "day          0\n",
       "month        0\n",
       "duration     0\n",
       "campaign     0\n",
       "pdays        0\n",
       "previous     0\n",
       "poutcome     0\n",
       "y            0\n",
       "dtype: int64"
      ]
     },
     "execution_count": 4,
     "metadata": {},
     "output_type": "execute_result"
    }
   ],
   "source": [
    "# check for missing values\n",
    "df.isnull().sum()"
   ]
  },
  {
   "cell_type": "code",
   "execution_count": 5,
   "id": "5c417381-eef3-4e0b-8cb7-c7f9b0a6a2f1",
   "metadata": {},
   "outputs": [],
   "source": [
    "# replace the negative number with zero\n",
    "df['pdays'] = df['pdays'].replace({-1:0})"
   ]
  },
  {
   "cell_type": "code",
   "execution_count": 6,
   "id": "c4878105-9166-4b4a-ba15-a6f71ab2bbba",
   "metadata": {},
   "outputs": [
    {
     "data": {
      "text/html": [
       "<div>\n",
       "<style scoped>\n",
       "    .dataframe tbody tr th:only-of-type {\n",
       "        vertical-align: middle;\n",
       "    }\n",
       "\n",
       "    .dataframe tbody tr th {\n",
       "        vertical-align: top;\n",
       "    }\n",
       "\n",
       "    .dataframe thead th {\n",
       "        text-align: right;\n",
       "    }\n",
       "</style>\n",
       "<table border=\"1\" class=\"dataframe\">\n",
       "  <thead>\n",
       "    <tr style=\"text-align: right;\">\n",
       "      <th></th>\n",
       "      <th>age</th>\n",
       "      <th>job</th>\n",
       "      <th>marital</th>\n",
       "      <th>education</th>\n",
       "      <th>default</th>\n",
       "      <th>balance</th>\n",
       "      <th>housing</th>\n",
       "      <th>loan</th>\n",
       "      <th>contact</th>\n",
       "      <th>day</th>\n",
       "      <th>month</th>\n",
       "      <th>duration</th>\n",
       "      <th>campaign</th>\n",
       "      <th>pdays</th>\n",
       "      <th>previous</th>\n",
       "      <th>poutcome</th>\n",
       "      <th>y</th>\n",
       "    </tr>\n",
       "  </thead>\n",
       "  <tbody>\n",
       "    <tr>\n",
       "      <th>29236</th>\n",
       "      <td>35</td>\n",
       "      <td>admin.</td>\n",
       "      <td>married</td>\n",
       "      <td>secondary</td>\n",
       "      <td>no</td>\n",
       "      <td>0</td>\n",
       "      <td>yes</td>\n",
       "      <td>no</td>\n",
       "      <td>cellular</td>\n",
       "      <td>20</td>\n",
       "      <td>apr</td>\n",
       "      <td>18</td>\n",
       "      <td>5</td>\n",
       "      <td>0</td>\n",
       "      <td>0</td>\n",
       "      <td>unknown</td>\n",
       "      <td>no</td>\n",
       "    </tr>\n",
       "    <tr>\n",
       "      <th>19403</th>\n",
       "      <td>34</td>\n",
       "      <td>technician</td>\n",
       "      <td>single</td>\n",
       "      <td>tertiary</td>\n",
       "      <td>no</td>\n",
       "      <td>82</td>\n",
       "      <td>no</td>\n",
       "      <td>no</td>\n",
       "      <td>cellular</td>\n",
       "      <td>19</td>\n",
       "      <td>aug</td>\n",
       "      <td>292</td>\n",
       "      <td>4</td>\n",
       "      <td>0</td>\n",
       "      <td>0</td>\n",
       "      <td>unknown</td>\n",
       "      <td>no</td>\n",
       "    </tr>\n",
       "    <tr>\n",
       "      <th>25530</th>\n",
       "      <td>58</td>\n",
       "      <td>retired</td>\n",
       "      <td>married</td>\n",
       "      <td>unknown</td>\n",
       "      <td>no</td>\n",
       "      <td>662</td>\n",
       "      <td>yes</td>\n",
       "      <td>no</td>\n",
       "      <td>cellular</td>\n",
       "      <td>2</td>\n",
       "      <td>feb</td>\n",
       "      <td>389</td>\n",
       "      <td>1</td>\n",
       "      <td>0</td>\n",
       "      <td>0</td>\n",
       "      <td>unknown</td>\n",
       "      <td>no</td>\n",
       "    </tr>\n",
       "    <tr>\n",
       "      <th>31029</th>\n",
       "      <td>46</td>\n",
       "      <td>management</td>\n",
       "      <td>married</td>\n",
       "      <td>secondary</td>\n",
       "      <td>no</td>\n",
       "      <td>1363</td>\n",
       "      <td>yes</td>\n",
       "      <td>yes</td>\n",
       "      <td>cellular</td>\n",
       "      <td>7</td>\n",
       "      <td>may</td>\n",
       "      <td>60</td>\n",
       "      <td>4</td>\n",
       "      <td>0</td>\n",
       "      <td>0</td>\n",
       "      <td>unknown</td>\n",
       "      <td>no</td>\n",
       "    </tr>\n",
       "    <tr>\n",
       "      <th>21867</th>\n",
       "      <td>58</td>\n",
       "      <td>management</td>\n",
       "      <td>divorced</td>\n",
       "      <td>tertiary</td>\n",
       "      <td>no</td>\n",
       "      <td>1573</td>\n",
       "      <td>yes</td>\n",
       "      <td>yes</td>\n",
       "      <td>cellular</td>\n",
       "      <td>17</td>\n",
       "      <td>nov</td>\n",
       "      <td>279</td>\n",
       "      <td>1</td>\n",
       "      <td>0</td>\n",
       "      <td>0</td>\n",
       "      <td>unknown</td>\n",
       "      <td>no</td>\n",
       "    </tr>\n",
       "  </tbody>\n",
       "</table>\n",
       "</div>"
      ],
      "text/plain": [
       "       age         job   marital  education default  balance housing loan  \\\n",
       "29236   35      admin.   married  secondary      no        0     yes   no   \n",
       "19403   34  technician    single   tertiary      no       82      no   no   \n",
       "25530   58     retired   married    unknown      no      662     yes   no   \n",
       "31029   46  management   married  secondary      no     1363     yes  yes   \n",
       "21867   58  management  divorced   tertiary      no     1573     yes  yes   \n",
       "\n",
       "        contact  day month  duration  campaign  pdays  previous poutcome   y  \n",
       "29236  cellular   20   apr        18         5      0         0  unknown  no  \n",
       "19403  cellular   19   aug       292         4      0         0  unknown  no  \n",
       "25530  cellular    2   feb       389         1      0         0  unknown  no  \n",
       "31029  cellular    7   may        60         4      0         0  unknown  no  \n",
       "21867  cellular   17   nov       279         1      0         0  unknown  no  "
      ]
     },
     "execution_count": 6,
     "metadata": {},
     "output_type": "execute_result"
    }
   ],
   "source": [
    "#confirm if the replacement is executed\n",
    "df.sample(5)"
   ]
  },
  {
   "cell_type": "code",
   "execution_count": 7,
   "id": "dc9900bc-67e6-4dd4-a75c-83429d86e3c4",
   "metadata": {},
   "outputs": [
    {
     "name": "stdout",
     "output_type": "stream",
     "text": [
      "{'month': {'apr': 0, 'aug': 1, 'dec': 2, 'feb': 3, 'jan': 4, 'jul': 5, 'jun': 6, 'mar': 7, 'may': 8, 'nov': 9, 'oct': 10, 'sep': 11}}\n"
     ]
    }
   ],
   "source": [
    "# encode month feature\n",
    "from sklearn import preprocessing\n",
    "category_column = [\"month\"]\n",
    "labelEncoder = preprocessing.LabelEncoder()\n",
    "\n",
    "mapping_dictionary = {}\n",
    "\n",
    "for col in category_column:\n",
    "    df['month'] = labelEncoder.fit_transform(df[col])\n",
    " \n",
    "    le_name_mapping = dict(zip(labelEncoder.classes_, labelEncoder.transform(labelEncoder.classes_)))\n",
    " \n",
    "    mapping_dictionary[col] = le_name_mapping\n",
    "\n",
    "print(mapping_dictionary)"
   ]
  },
  {
   "cell_type": "code",
   "execution_count": 8,
   "id": "6978163d-27f6-4d1f-bda0-b9f9fa96e7e0",
   "metadata": {},
   "outputs": [],
   "source": [
    "# select categorical variable\n",
    "cat_columns = [\"job\",\"marital\",\"education\", \"default\", \"housing\", \"loan\", \"contact\", \"poutcome\"]\n",
    "# one hot encode categorical features\n",
    "newdf = pd.get_dummies(df, prefix_sep = \"_\", columns = cat_columns)"
   ]
  },
  {
   "cell_type": "code",
   "execution_count": 9,
   "id": "e0ee4a5c-b22e-45b2-a521-7a176b1ab0e7",
   "metadata": {},
   "outputs": [],
   "source": [
    "# create a simple function to convert our target value to number\n",
    "def y_value(input_val):\n",
    "    if input_val['y'] == 'no':\n",
    "        val = 0\n",
    "    else:\n",
    "        val = 1\n",
    "    return val"
   ]
  },
  {
   "cell_type": "code",
   "execution_count": 10,
   "id": "2ba17201-727c-4237-82a2-87305c435eba",
   "metadata": {},
   "outputs": [],
   "source": [
    "# apply the function\n",
    "newdf['y'] = newdf.apply(y_value, axis = 1)"
   ]
  },
  {
   "cell_type": "code",
   "execution_count": 11,
   "id": "df44c7eb-8c07-4a86-b65d-0a8f5fc0ed2a",
   "metadata": {},
   "outputs": [
    {
     "data": {
      "text/plain": [
       "Index(['age', 'balance', 'day', 'month', 'duration', 'campaign', 'pdays',\n",
       "       'previous', 'y', 'job_admin.', 'job_blue-collar', 'job_entrepreneur',\n",
       "       'job_housemaid', 'job_management', 'job_retired', 'job_self-employed',\n",
       "       'job_services', 'job_student', 'job_technician', 'job_unemployed',\n",
       "       'job_unknown', 'marital_divorced', 'marital_married', 'marital_single',\n",
       "       'education_primary', 'education_secondary', 'education_tertiary',\n",
       "       'education_unknown', 'default_no', 'default_yes', 'housing_no',\n",
       "       'housing_yes', 'loan_no', 'loan_yes', 'contact_cellular',\n",
       "       'contact_telephone', 'contact_unknown', 'poutcome_failure',\n",
       "       'poutcome_other', 'poutcome_success', 'poutcome_unknown'],\n",
       "      dtype='object')"
      ]
     },
     "execution_count": 11,
     "metadata": {},
     "output_type": "execute_result"
    }
   ],
   "source": [
    "# display the updated columns\n",
    "newdf.columns"
   ]
  },
  {
   "cell_type": "code",
   "execution_count": 12,
   "id": "4af818f4-fc4f-437c-8313-8c0cc0c70e53",
   "metadata": {},
   "outputs": [
    {
     "data": {
      "text/html": [
       "<div>\n",
       "<style scoped>\n",
       "    .dataframe tbody tr th:only-of-type {\n",
       "        vertical-align: middle;\n",
       "    }\n",
       "\n",
       "    .dataframe tbody tr th {\n",
       "        vertical-align: top;\n",
       "    }\n",
       "\n",
       "    .dataframe thead th {\n",
       "        text-align: right;\n",
       "    }\n",
       "</style>\n",
       "<table border=\"1\" class=\"dataframe\">\n",
       "  <thead>\n",
       "    <tr style=\"text-align: right;\">\n",
       "      <th></th>\n",
       "      <th>age</th>\n",
       "      <th>balance</th>\n",
       "      <th>day</th>\n",
       "      <th>month</th>\n",
       "      <th>duration</th>\n",
       "      <th>campaign</th>\n",
       "      <th>pdays</th>\n",
       "      <th>previous</th>\n",
       "      <th>y</th>\n",
       "      <th>job_admin.</th>\n",
       "      <th>...</th>\n",
       "      <th>housing_yes</th>\n",
       "      <th>loan_no</th>\n",
       "      <th>loan_yes</th>\n",
       "      <th>contact_cellular</th>\n",
       "      <th>contact_telephone</th>\n",
       "      <th>contact_unknown</th>\n",
       "      <th>poutcome_failure</th>\n",
       "      <th>poutcome_other</th>\n",
       "      <th>poutcome_success</th>\n",
       "      <th>poutcome_unknown</th>\n",
       "    </tr>\n",
       "  </thead>\n",
       "  <tbody>\n",
       "    <tr>\n",
       "      <th>count</th>\n",
       "      <td>39201.000000</td>\n",
       "      <td>39201.000000</td>\n",
       "      <td>39201.000000</td>\n",
       "      <td>39201.000000</td>\n",
       "      <td>39201.000000</td>\n",
       "      <td>39201.000000</td>\n",
       "      <td>39201.000000</td>\n",
       "      <td>39201.000000</td>\n",
       "      <td>39201.000000</td>\n",
       "      <td>39201.000000</td>\n",
       "      <td>...</td>\n",
       "      <td>39201.000000</td>\n",
       "      <td>39201.000000</td>\n",
       "      <td>39201.000000</td>\n",
       "      <td>39201.000000</td>\n",
       "      <td>39201.000000</td>\n",
       "      <td>39201.000000</td>\n",
       "      <td>39201.000000</td>\n",
       "      <td>39201.000000</td>\n",
       "      <td>39201.000000</td>\n",
       "      <td>39201.000000</td>\n",
       "    </tr>\n",
       "    <tr>\n",
       "      <th>mean</th>\n",
       "      <td>40.217954</td>\n",
       "      <td>575.411061</td>\n",
       "      <td>15.758731</td>\n",
       "      <td>5.490243</td>\n",
       "      <td>255.166679</td>\n",
       "      <td>2.784878</td>\n",
       "      <td>40.873524</td>\n",
       "      <td>0.560802</td>\n",
       "      <td>0.107319</td>\n",
       "      <td>0.118135</td>\n",
       "      <td>...</td>\n",
       "      <td>0.572128</td>\n",
       "      <td>0.827708</td>\n",
       "      <td>0.172292</td>\n",
       "      <td>0.646361</td>\n",
       "      <td>0.057371</td>\n",
       "      <td>0.296268</td>\n",
       "      <td>0.106120</td>\n",
       "      <td>0.040356</td>\n",
       "      <td>0.030203</td>\n",
       "      <td>0.823321</td>\n",
       "    </tr>\n",
       "    <tr>\n",
       "      <th>std</th>\n",
       "      <td>9.834772</td>\n",
       "      <td>758.588256</td>\n",
       "      <td>8.373108</td>\n",
       "      <td>2.964271</td>\n",
       "      <td>254.608341</td>\n",
       "      <td>3.132226</td>\n",
       "      <td>100.925330</td>\n",
       "      <td>2.328601</td>\n",
       "      <td>0.309522</td>\n",
       "      <td>0.322772</td>\n",
       "      <td>...</td>\n",
       "      <td>0.494776</td>\n",
       "      <td>0.377638</td>\n",
       "      <td>0.377638</td>\n",
       "      <td>0.478105</td>\n",
       "      <td>0.232553</td>\n",
       "      <td>0.456616</td>\n",
       "      <td>0.307995</td>\n",
       "      <td>0.196796</td>\n",
       "      <td>0.171149</td>\n",
       "      <td>0.381402</td>\n",
       "    </tr>\n",
       "    <tr>\n",
       "      <th>min</th>\n",
       "      <td>18.000000</td>\n",
       "      <td>-8019.000000</td>\n",
       "      <td>1.000000</td>\n",
       "      <td>0.000000</td>\n",
       "      <td>0.000000</td>\n",
       "      <td>1.000000</td>\n",
       "      <td>0.000000</td>\n",
       "      <td>0.000000</td>\n",
       "      <td>0.000000</td>\n",
       "      <td>0.000000</td>\n",
       "      <td>...</td>\n",
       "      <td>0.000000</td>\n",
       "      <td>0.000000</td>\n",
       "      <td>0.000000</td>\n",
       "      <td>0.000000</td>\n",
       "      <td>0.000000</td>\n",
       "      <td>0.000000</td>\n",
       "      <td>0.000000</td>\n",
       "      <td>0.000000</td>\n",
       "      <td>0.000000</td>\n",
       "      <td>0.000000</td>\n",
       "    </tr>\n",
       "    <tr>\n",
       "      <th>25%</th>\n",
       "      <td>32.000000</td>\n",
       "      <td>39.000000</td>\n",
       "      <td>8.000000</td>\n",
       "      <td>3.000000</td>\n",
       "      <td>102.000000</td>\n",
       "      <td>1.000000</td>\n",
       "      <td>0.000000</td>\n",
       "      <td>0.000000</td>\n",
       "      <td>0.000000</td>\n",
       "      <td>0.000000</td>\n",
       "      <td>...</td>\n",
       "      <td>0.000000</td>\n",
       "      <td>1.000000</td>\n",
       "      <td>0.000000</td>\n",
       "      <td>0.000000</td>\n",
       "      <td>0.000000</td>\n",
       "      <td>0.000000</td>\n",
       "      <td>0.000000</td>\n",
       "      <td>0.000000</td>\n",
       "      <td>0.000000</td>\n",
       "      <td>1.000000</td>\n",
       "    </tr>\n",
       "    <tr>\n",
       "      <th>50%</th>\n",
       "      <td>39.000000</td>\n",
       "      <td>328.000000</td>\n",
       "      <td>16.000000</td>\n",
       "      <td>6.000000</td>\n",
       "      <td>178.000000</td>\n",
       "      <td>2.000000</td>\n",
       "      <td>0.000000</td>\n",
       "      <td>0.000000</td>\n",
       "      <td>0.000000</td>\n",
       "      <td>0.000000</td>\n",
       "      <td>...</td>\n",
       "      <td>1.000000</td>\n",
       "      <td>1.000000</td>\n",
       "      <td>0.000000</td>\n",
       "      <td>1.000000</td>\n",
       "      <td>0.000000</td>\n",
       "      <td>0.000000</td>\n",
       "      <td>0.000000</td>\n",
       "      <td>0.000000</td>\n",
       "      <td>0.000000</td>\n",
       "      <td>1.000000</td>\n",
       "    </tr>\n",
       "    <tr>\n",
       "      <th>75%</th>\n",
       "      <td>47.000000</td>\n",
       "      <td>905.000000</td>\n",
       "      <td>21.000000</td>\n",
       "      <td>8.000000</td>\n",
       "      <td>315.000000</td>\n",
       "      <td>3.000000</td>\n",
       "      <td>0.000000</td>\n",
       "      <td>0.000000</td>\n",
       "      <td>0.000000</td>\n",
       "      <td>0.000000</td>\n",
       "      <td>...</td>\n",
       "      <td>1.000000</td>\n",
       "      <td>1.000000</td>\n",
       "      <td>0.000000</td>\n",
       "      <td>1.000000</td>\n",
       "      <td>0.000000</td>\n",
       "      <td>1.000000</td>\n",
       "      <td>0.000000</td>\n",
       "      <td>0.000000</td>\n",
       "      <td>0.000000</td>\n",
       "      <td>1.000000</td>\n",
       "    </tr>\n",
       "    <tr>\n",
       "      <th>max</th>\n",
       "      <td>69.000000</td>\n",
       "      <td>2999.000000</td>\n",
       "      <td>31.000000</td>\n",
       "      <td>11.000000</td>\n",
       "      <td>3881.000000</td>\n",
       "      <td>58.000000</td>\n",
       "      <td>871.000000</td>\n",
       "      <td>275.000000</td>\n",
       "      <td>1.000000</td>\n",
       "      <td>1.000000</td>\n",
       "      <td>...</td>\n",
       "      <td>1.000000</td>\n",
       "      <td>1.000000</td>\n",
       "      <td>1.000000</td>\n",
       "      <td>1.000000</td>\n",
       "      <td>1.000000</td>\n",
       "      <td>1.000000</td>\n",
       "      <td>1.000000</td>\n",
       "      <td>1.000000</td>\n",
       "      <td>1.000000</td>\n",
       "      <td>1.000000</td>\n",
       "    </tr>\n",
       "  </tbody>\n",
       "</table>\n",
       "<p>8 rows × 41 columns</p>\n",
       "</div>"
      ],
      "text/plain": [
       "                age       balance           day         month      duration  \\\n",
       "count  39201.000000  39201.000000  39201.000000  39201.000000  39201.000000   \n",
       "mean      40.217954    575.411061     15.758731      5.490243    255.166679   \n",
       "std        9.834772    758.588256      8.373108      2.964271    254.608341   \n",
       "min       18.000000  -8019.000000      1.000000      0.000000      0.000000   \n",
       "25%       32.000000     39.000000      8.000000      3.000000    102.000000   \n",
       "50%       39.000000    328.000000     16.000000      6.000000    178.000000   \n",
       "75%       47.000000    905.000000     21.000000      8.000000    315.000000   \n",
       "max       69.000000   2999.000000     31.000000     11.000000   3881.000000   \n",
       "\n",
       "           campaign         pdays      previous             y    job_admin.  \\\n",
       "count  39201.000000  39201.000000  39201.000000  39201.000000  39201.000000   \n",
       "mean       2.784878     40.873524      0.560802      0.107319      0.118135   \n",
       "std        3.132226    100.925330      2.328601      0.309522      0.322772   \n",
       "min        1.000000      0.000000      0.000000      0.000000      0.000000   \n",
       "25%        1.000000      0.000000      0.000000      0.000000      0.000000   \n",
       "50%        2.000000      0.000000      0.000000      0.000000      0.000000   \n",
       "75%        3.000000      0.000000      0.000000      0.000000      0.000000   \n",
       "max       58.000000    871.000000    275.000000      1.000000      1.000000   \n",
       "\n",
       "       ...   housing_yes       loan_no      loan_yes  contact_cellular  \\\n",
       "count  ...  39201.000000  39201.000000  39201.000000      39201.000000   \n",
       "mean   ...      0.572128      0.827708      0.172292          0.646361   \n",
       "std    ...      0.494776      0.377638      0.377638          0.478105   \n",
       "min    ...      0.000000      0.000000      0.000000          0.000000   \n",
       "25%    ...      0.000000      1.000000      0.000000          0.000000   \n",
       "50%    ...      1.000000      1.000000      0.000000          1.000000   \n",
       "75%    ...      1.000000      1.000000      0.000000          1.000000   \n",
       "max    ...      1.000000      1.000000      1.000000          1.000000   \n",
       "\n",
       "       contact_telephone  contact_unknown  poutcome_failure  poutcome_other  \\\n",
       "count       39201.000000     39201.000000      39201.000000    39201.000000   \n",
       "mean            0.057371         0.296268          0.106120        0.040356   \n",
       "std             0.232553         0.456616          0.307995        0.196796   \n",
       "min             0.000000         0.000000          0.000000        0.000000   \n",
       "25%             0.000000         0.000000          0.000000        0.000000   \n",
       "50%             0.000000         0.000000          0.000000        0.000000   \n",
       "75%             0.000000         1.000000          0.000000        0.000000   \n",
       "max             1.000000         1.000000          1.000000        1.000000   \n",
       "\n",
       "       poutcome_success  poutcome_unknown  \n",
       "count      39201.000000      39201.000000  \n",
       "mean           0.030203          0.823321  \n",
       "std            0.171149          0.381402  \n",
       "min            0.000000          0.000000  \n",
       "25%            0.000000          1.000000  \n",
       "50%            0.000000          1.000000  \n",
       "75%            0.000000          1.000000  \n",
       "max            1.000000          1.000000  \n",
       "\n",
       "[8 rows x 41 columns]"
      ]
     },
     "execution_count": 12,
     "metadata": {},
     "output_type": "execute_result"
    }
   ],
   "source": [
    "# display a statistical summary of the data\n",
    "newdf.describe()"
   ]
  },
  {
   "cell_type": "code",
   "execution_count": 13,
   "id": "1139a6ca-f8f2-4323-b42d-66a3237d60ec",
   "metadata": {},
   "outputs": [
    {
     "data": {
      "image/png": "[encoded data removed]",
      "text/plain": [
       "<Figure size 432x288 with 2 Axes>"
      ]
     },
     "metadata": {
      "needs_background": "light"
     },
     "output_type": "display_data"
    }
   ],
   "source": [
    "# plot a correlation diagram\n",
    "sns.heatmap(newdf.corr())\n",
    "plt.show()"
   ]
  },
  {
   "cell_type": "markdown",
   "id": "ee762084-1048-4676-a5b9-23ca0f99be67",
   "metadata": {},
   "source": [
    "### Feature Importance"
   ]
  },
  {
   "cell_type": "code",
   "execution_count": 14,
   "id": "db209c1e-9a99-43e4-abba-7c2317646330",
   "metadata": {},
   "outputs": [],
   "source": [
    "# Create features and target\n",
    "X = newdf.drop(['y'], axis = 1)\n",
    "y = newdf['y']"
   ]
  },
  {
   "cell_type": "code",
   "execution_count": 15,
   "id": "bae62e03-5c7c-4a12-a343-88718b283b9a",
   "metadata": {
    "tags": []
   },
   "outputs": [],
   "source": [
    "# import train_test_split to split the dataset\n",
    "#split dataset into 80 by 20\n",
    "from sklearn.model_selection import train_test_split\n",
    "X_train, X_test, y_train, y_test = train_test_split(X, y, test_size = 0.2, random_state = 42)"
   ]
  },
  {
   "cell_type": "code",
   "execution_count": 16,
   "id": "509a1dee-8bcb-48ee-88b9-9efe209c2028",
   "metadata": {
    "tags": []
   },
   "outputs": [],
   "source": [
    "# import randomforest classifier to perform feature selection\n",
    "from sklearn.feature_selection import RFE\n",
    "from sklearn.ensemble import RandomForestClassifier\n",
    "# Create the RFE object and rank each pixel\n",
    "clf_rf = RandomForestClassifier()      \n",
    "rfe = RFE(estimator = clf_rf, n_features_to_select = 10, step = 1)\n",
    "rfe = rfe.fit(X_train, y_train)"
   ]
  },
  {
   "cell_type": "code",
   "execution_count": 17,
   "id": "5a2a6c02-18f4-4db3-ba01-7355b32f88bd",
   "metadata": {},
   "outputs": [
    {
     "name": "stdout",
     "output_type": "stream",
     "text": [
      "Chosen best feature by rfe: Index(['age', 'balance', 'day', 'month', 'duration', 'campaign', 'pdays',\n",
      "       'previous', 'housing_yes', 'poutcome_success'],\n",
      "      dtype='object')\n"
     ]
    }
   ],
   "source": [
    "# display the top 10 most relevant features\n",
    "print('Chosen best feature by rfe:', X_train.columns[rfe.support_])"
   ]
  },
  {
   "cell_type": "markdown",
   "id": "ce410eb1-f1cd-49d7-8fd1-a15230aee702",
   "metadata": {},
   "source": [
    "### Algorithm Training and Experimentation"
   ]
  },
  {
   "cell_type": "code",
   "execution_count": 27,
   "id": "4e6b9b82-91d6-416c-aa51-6602c10cb96e",
   "metadata": {},
   "outputs": [],
   "source": [
    "# import libraries\n",
    "from sklearn.preprocessing import StandardScaler\n",
    "from sklearn.pipeline import Pipeline\n",
    "from sklearn.linear_model import LogisticRegression\n",
    "from sklearn.metrics import classification_report\n",
    "from sklearn.metrics import confusion_matrix\n",
    "from sklearn.metrics import f1_score\n",
    "from sklearn.metrics import roc_curve"
   ]
  },
  {
   "cell_type": "code",
   "execution_count": 28,
   "id": "2794ea9f-fcf8-4af5-b798-12cec962abb3",
   "metadata": {},
   "outputs": [],
   "source": [
    "# split the dataset 70 by 30\n",
    "X_train, X_test, y_train, y_test = train_test_split(X, y, test_size = 0.3, random_state = 42)"
   ]
  },
  {
   "cell_type": "code",
   "execution_count": 29,
   "id": "7597f979-6304-4a86-8a69-aff9ecc43666",
   "metadata": {},
   "outputs": [
    {
     "data": {
      "text/plain": [
       "0    24472\n",
       "1     2968\n",
       "Name: y, dtype: int64"
      ]
     },
     "execution_count": 29,
     "metadata": {},
     "output_type": "execute_result"
    }
   ],
   "source": [
    "# check the distribution of our target value\n",
    "y_train.value_counts()"
   ]
  },
  {
   "cell_type": "code",
   "execution_count": 30,
   "id": "0502f40b-d77b-465b-8d49-59e2dbbc8916",
   "metadata": {},
   "outputs": [],
   "source": [
    "# Setup the pipeline steps: steps\n",
    "steps = [('scaler', StandardScaler()), ('lr', LogisticRegression())] # ('scaler', StandardScaler()),\n",
    "# Create the pipeline: pipeline\n",
    "pipeline_lr = Pipeline(steps)\n",
    "# Fit the pipeline to the train set\n",
    "pipeline_lr.fit(X_train, y_train)\n",
    "# Predict the labels of the test set\n",
    "y_pred_lr = pipeline_lr.predict(X_test)"
   ]
  },
  {
   "cell_type": "code",
   "execution_count": 31,
   "id": "378e1062-f96e-4bcd-8107-0d266c1541f0",
   "metadata": {},
   "outputs": [
    {
     "name": "stdout",
     "output_type": "stream",
     "text": [
      "{'memory': None, 'steps': [('scaler', StandardScaler()), ('lr', LogisticRegression())], 'verbose': False, 'scaler': StandardScaler(), 'lr': LogisticRegression(), 'scaler__copy': True, 'scaler__with_mean': True, 'scaler__with_std': True, 'lr__C': 1.0, 'lr__class_weight': None, 'lr__dual': False, 'lr__fit_intercept': True, 'lr__intercept_scaling': 1, 'lr__l1_ratio': None, 'lr__max_iter': 100, 'lr__multi_class': 'auto', 'lr__n_jobs': None, 'lr__penalty': 'l2', 'lr__random_state': None, 'lr__solver': 'lbfgs', 'lr__tol': 0.0001, 'lr__verbose': 0, 'lr__warm_start': False}\n"
     ]
    }
   ],
   "source": [
    "# Print the parameters of the model\n",
    "print(pipeline_lr.get_params())"
   ]
  },
  {
   "cell_type": "code",
   "execution_count": 32,
   "id": "7174024d-146a-4d36-87ef-f51e08ff278b",
   "metadata": {},
   "outputs": [
    {
     "name": "stdout",
     "output_type": "stream",
     "text": [
      "              precision    recall  f1-score   support\n",
      "\n",
      "           0       0.93      0.98      0.95     10522\n",
      "           1       0.64      0.33      0.44      1239\n",
      "\n",
      "    accuracy                           0.91     11761\n",
      "   macro avg       0.78      0.66      0.69     11761\n",
      "weighted avg       0.90      0.91      0.90     11761\n",
      "\n"
     ]
    }
   ],
   "source": [
    "# Compute metrics\n",
    "print(classification_report(y_test, y_pred_lr))"
   ]
  },
  {
   "cell_type": "code",
   "execution_count": 33,
   "id": "04bae61d-b040-4314-838d-39749d4a8803",
   "metadata": {},
   "outputs": [
    {
     "data": {
      "image/png": "[encoded data removed]",
      "text/plain": [
       "<Figure size 432x288 with 2 Axes>"
      ]
     },
     "metadata": {
      "needs_background": "light"
     },
     "output_type": "display_data"
    }
   ],
   "source": [
    "# plot the confusion matrix\n",
    "cm = confusion_matrix(y_test, y_pred_lr)\n",
    "sns.heatmap(cm, annot = True, fmt = \"d\")\n",
    "plt.title('Confusion matrix for logistic regression')\n",
    "plt.show()"
   ]
  },
  {
   "cell_type": "markdown",
   "id": "66fa4a1a-7a40-4e87-a0e3-8e96e30cdced",
   "metadata": {},
   "source": [
    "### Excercises"
   ]
  },
  {
   "cell_type": "code",
   "execution_count": 34,
   "id": "55b155cd-702d-4da1-9958-c53eddf35467",
   "metadata": {},
   "outputs": [],
   "source": [
    "# Excercise 1: train the random forest classifer. DO NOT FORGET TO IMPORT RANDOM FOREST CLASSIFIER\n",
    "\n",
    "#import random forest classifier\n",
    "\n",
    "from sklearn.feature_selection import RFE\n",
    "from sklearn.ensemble import RandomForestClassifier\n",
    "# Setup the pipeline steps: steps\n",
    "steps = [('scaler', StandardScaler()), ('rfr', RandomForestClassifier())] #\n",
    "# Create the pipeline: pipeline\n",
    "pipeline_rfr = Pipeline(steps)\n",
    "# Fit the pipeline to the train set\n",
    "pipeline_rfr.fit(X_train, y_train)\n",
    "# Predict the labels of the test set\n",
    "y_pred_rfr = pipeline_rfr.predict(X_test)"
   ]
  },
  {
   "cell_type": "code",
   "execution_count": 35,
   "id": "3fc5e22f-65f4-4dd0-a1c7-67db2cdf412e",
   "metadata": {},
   "outputs": [
    {
     "name": "stdout",
     "output_type": "stream",
     "text": [
      "              precision    recall  f1-score   support\n",
      "\n",
      "           0       0.93      0.98      0.95     10522\n",
      "           1       0.65      0.36      0.47      1239\n",
      "\n",
      "    accuracy                           0.91     11761\n",
      "   macro avg       0.79      0.67      0.71     11761\n",
      "weighted avg       0.90      0.91      0.90     11761\n",
      "\n"
     ]
    }
   ],
   "source": [
    "# Excercise 2: diplay the classification report\n",
    "\n",
    "# Compute metrics\n",
    "print(classification_report(y_test, y_pred_rfr))"
   ]
  },
  {
   "cell_type": "code",
   "execution_count": 36,
   "id": "2f9a803a-75f3-414b-8a8b-1abfc4955dc0",
   "metadata": {},
   "outputs": [
    {
     "data": {
      "image/png": "[encoded data removed]",
      "text/plain": [
       "<Figure size 432x288 with 2 Axes>"
      ]
     },
     "metadata": {
      "needs_background": "light"
     },
     "output_type": "display_data"
    }
   ],
   "source": [
    "# Excercise 3: plot the confusion matrix\n",
    "\n",
    "cm = confusion_matrix(y_test, y_pred_rfr)\n",
    "sns.heatmap(cm, annot = True, fmt = \"d\")\n",
    "plt.title('Confusion matrix for random forest classifier')\n",
    "plt.show()"
   ]
  },
  {
   "cell_type": "code",
   "execution_count": null,
   "id": "7ed2b14f-507a-4031-afbd-1171855a32e5",
   "metadata": {},
   "outputs": [],
   "source": []
  },
  {
   "cell_type": "markdown",
   "id": "3a65de33-8c2f-4229-a60f-2b8bb82a59b8",
   "metadata": {},
   "source": [
    "### Tracking Experiment with Neptune"
   ]
  },
  {
   "cell_type": "code",
   "execution_count": 37,
   "id": "91d49c51-b3e5-4ab9-a79f-7d939efa4e6e",
   "metadata": {},
   "outputs": [],
   "source": [
    "# import libraries\n",
    "import neptune.new as neptune\n",
    "from sklearn.pipeline import Pipeline\n",
    "from sklearn.preprocessing import StandardScaler\n",
    "from sklearn.linear_model import LogisticRegression\n",
    "from sklearn.model_selection import train_test_split\n",
    "import neptune.new.integrations.sklearn as npt_utils\n",
    "\n",
    "# Setup the pipeline steps: steps\n",
    "steps = [('scaler', StandardScaler()), ('lr', LogisticRegression())] #\n",
    "# Create the pipeline: pipeline\n",
    "pipeline_lr = Pipeline(steps)"
   ]
  },
  {
   "cell_type": "code",
   "execution_count": 45,
   "id": "1f0b0c4d-81e5-4fd1-9ec6-abee7d3a15fe",
   "metadata": {},
   "outputs": [],
   "source": []
  },
  {
   "cell_type": "code",
   "execution_count": 39,
   "id": "fc4d2c72-7371-42cf-91f5-551b40e31f96",
   "metadata": {},
   "outputs": [],
   "source": [
    "# split dataset, 70 by 30\n",
    "X_train, X_test, y_train, y_test = train_test_split(X, y, test_size = 0.3, random_state = 42)\n",
    "\n",
    "# save dataset to a local folder named cleaned\n",
    "\n",
    "X_train.to_csv(\"~/Desktop/End-to-End-ML-Q1-Cohort/End-to-End-ML-Q1-Cohort/notebooks/refined/X_train.csv\")\n",
    "y_train.to_csv(\"~/Desktop/End-to-End-ML-Q1-Cohort/End-to-End-ML-Q1-Cohort/notebooks/refined/y_train.csv\")\n",
    "X_test.to_csv(\"~/Desktop/End-to-End-ML-Q1-Cohort/End-to-End-ML-Q1-Cohort/notebooks/refined/X_test.csv\")\n",
    "y_test.to_csv(\"~/Desktop/End-to-End-ML-Q1-Cohort/End-to-End-ML-Q1-Cohort/notebooks/refined/y_train.csv\")\n",
    "\n",
    "# Move the all the content of the clean folder to neptune\n",
    "run[\"refined_dataset\"].track_files(\"~/Desktop/End-to-End-ML-Q1-Cohort/End-to-End-ML-Q1-Cohort/notebooks/refined/\")"
   ]
  },
  {
   "cell_type": "code",
   "execution_count": 43,
   "id": "7fb01378-4d2a-4718-ad66-551237be45b3",
   "metadata": {},
   "outputs": [],
   "source": [
    "# train algorithm with training data and log experiment on neptune\n",
    "pipeline_lr.fit(X_train, y_train)\n",
    "run[\"classifier\"] = npt_utils.create_classifier_summary(pipeline_lr, X_train, X_test, y_train, y_test)"
   ]
  },
  {
   "cell_type": "code",
   "execution_count": null,
   "id": "e9c17d5d-0162-4265-b591-4db19cc824fc",
   "metadata": {},
   "outputs": [],
   "source": [
    "# stop the experiment\n",
    "run.stop()"
   ]
  },
  {
   "cell_type": "code",
   "execution_count": null,
   "id": "b971bb36-8de8-4d09-85bb-a04a3f4f0a90",
   "metadata": {},
   "outputs": [],
   "source": []
  },
  {
   "cell_type": "markdown",
   "id": "cd17b078-ec8c-426c-aa7c-b0d718d49139",
   "metadata": {},
   "source": [
    "### Excercises"
   ]
  },
  {
   "cell_type": "code",
   "execution_count": 46,
   "id": "5ff6674a-bff9-418f-98ad-8ecfff608c51",
   "metadata": {},
   "outputs": [],
   "source": [
    "# EXCERCISE 4: import library and parse it in the piipeline \n",
    "import neptune.new as neptune\n",
    "from sklearn.pipeline import Pipeline\n",
    "from sklearn.preprocessing import StandardScaler\n",
    "from sklearn.feature_selection import RFE\n",
    "from sklearn.ensemble import RandomForestClassifier\n",
    "from sklearn.model_selection import train_test_split\n",
    "import neptune.new.integrations.sklearn as npt_utils\n",
    "\n",
    "# Setup the pipeline steps: steps\n",
    "steps = [('scaler', StandardScaler()), ('rfr', RandomForestClassifier())] #\n",
    "# Create the pipeline: pipeline\n",
    "pipeline_rfr = Pipeline(steps)"
   ]
  },
  {
   "cell_type": "code",
   "execution_count": 47,
   "id": "9883a6d2-a888-4132-a3da-0b3f076029a2",
   "metadata": {},
   "outputs": [
    {
     "name": "stdout",
     "output_type": "stream",
     "text": [
      "https://app.neptune.ai/oyebola/Week3Assignment/e/WEEK-1\n",
      "Remember to stop your run once you’ve finished logging your metadata (https://docs.neptune.ai/api-reference/run#.stop). It will be stopped automatically only when the notebook kernel/interactive console is terminated.\n"
     ]
    }
   ],
   "source": [
    "# EXCERCISE 5: Get credential from neptune and enter it here\n",
    "\n",
    "run = neptune.init(\n",
    "    project=\"oyebola/Week3Assignment\",\n",
    "    api_token=\"JhcGlfdXJsIjoiaHR0cHM6Ly9hcHAubmVwdHVuZS5haSIsImFwaV9rZXkiOiJmMTJiMTBhMS1hN2QxLTRkYzMtYTQ4Yi01MDlmNjJjY2I1YjYifQ==\",\n",
    ")  # your credentials\n"
   ]
  },
  {
   "cell_type": "code",
   "execution_count": 48,
   "id": "db8a9682-1097-41e2-9539-ad3e13386e80",
   "metadata": {},
   "outputs": [],
   "source": [
    "# Excercise 6: split the dataset with a different test_size = 0.25\n",
    "X_train, X_test, y_train, y_test = train_test_split(X, y, test_size = 0.25, random_state = 42)\n",
    "\n",
    "# save dataset to a local folder named refined\n",
    "\n",
    "X_train.to_csv(\"~/Desktop/End-to-End-ML-Q1-Cohort/End-to-End-ML-Q1-Cohort/notebooks/refined/X_train.csv\")\n",
    "y_train.to_csv(\"~/Desktop/End-to-End-ML-Q1-Cohort/End-to-End-ML-Q1-Cohort/notebooks/refined/y_train.csv\")\n",
    "X_test.to_csv(\"~/Desktop/End-to-End-ML-Q1-Cohort/End-to-End-ML-Q1-Cohort/notebooks/refined/X_test.csv\")\n",
    "y_test.to_csv(\"~/Desktop/End-to-End-ML-Q1-Cohort/End-to-End-ML-Q1-Cohort/notebooks/refined/y_train.csv\")\n",
    "\n",
    "# Move the all the content of the clean folder to neptune\n",
    "run[\"refined_dataset\"].track_files(\"~/Desktop/End-to-End-ML-Q1-Cohort/End-to-End-ML-Q1-Cohort/notebooks/refined/\")"
   ]
  },
  {
   "cell_type": "code",
   "execution_count": 49,
   "id": "bda4c3f6-e013-4dc7-b1e4-4e4815bbf2c9",
   "metadata": {},
   "outputs": [
    {
     "name": "stderr",
     "output_type": "stream",
     "text": [
      "You are attempting to create an in-memory file that is 38.7MB large. Neptune supports logging in-memory file objects smaller than 32MB. Resize or increase compression of this object\n"
     ]
    }
   ],
   "source": [
    "# EXCERCISE 7: Use the classifier pipeline you create above\n",
    "pipeline_rfr.fit(X_train, y_train)\n",
    "run[\"classifier\"] = npt_utils.create_classifier_summary(pipeline_rfr, X_train, X_test, y_train, y_test)"
   ]
  },
  {
   "cell_type": "code",
   "execution_count": 50,
   "id": "f0b20d17-b573-4d66-b028-fbd43a91d5db",
   "metadata": {},
   "outputs": [
    {
     "name": "stdout",
     "output_type": "stream",
     "text": [
      "Shutting down background jobs, please wait a moment...\n",
      "Done!\n"
     ]
    },
    {
     "name": "stderr",
     "output_type": "stream",
     "text": [
      "Waiting for the remaining 1 operations to synchronize with Neptune. Do not kill this process.\n"
     ]
    },
    {
     "name": "stdout",
     "output_type": "stream",
     "text": [
      "All 1 operations synced, thanks for waiting!\n"
     ]
    }
   ],
   "source": [
    "# stop the experiment\n",
    "run.stop()"
   ]
  },
  {
   "cell_type": "code",
   "execution_count": null,
   "id": "d3cb03c9-ad53-412d-b5fc-66d5ac158003",
   "metadata": {},
   "outputs": [],
   "source": []
  },
  {
   "cell_type": "code",
   "execution_count": null,
   "id": "72ea52fa-f452-49f5-841a-2afb057d5c8b",
   "metadata": {},
   "outputs": [],
   "source": []
  }
 ],
 "metadata": {
  "kernelspec": {
   "display_name": "Python 3 (ipykernel)",
   "language": "python",
   "name": "python3"
  },
  "language_info": {
   "codemirror_mode": {
    "name": "ipython",
    "version": 3
   },
   "file_extension": ".py",
   "mimetype": "text/x-python",
   "name": "python",
   "nbconvert_exporter": "python",
   "pygments_lexer": "ipython3",
   "version": "3.9.7"
  }
 },
 "nbformat": 4,
 "nbformat_minor": 5
}
